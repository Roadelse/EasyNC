{
 "cells": [
  {
   "cell_type": "code",
   "execution_count": 1,
   "id": "486f448a",
   "metadata": {},
   "outputs": [],
   "source": [
    "# coding=utf-8\n",
    "\n",
    "import sys, os, os.path\n",
    "import pickle\n",
    "\n",
    "sys.path.append(r'C:\\Users\\Roadelse\\OneDrive\\Roadelse\\Tech\\proj\\~Fortran\\froed\\froed.jbprj')"
   ]
  },
  {
   "cell_type": "code",
   "execution_count": 2,
   "id": "96d45b88",
   "metadata": {},
   "outputs": [],
   "source": [
    "import FortranLogic"
   ]
  },
  {
   "cell_type": "code",
   "execution_count": 3,
   "id": "cca23985",
   "metadata": {},
   "outputs": [],
   "source": [
    "inDat = r'D:/BaiduSyncdisk/Roadelse/Tech/proj/~Fortran/froed/results/test-type.pk'"
   ]
  },
  {
   "cell_type": "code",
   "execution_count": 4,
   "id": "268f6b6a",
   "metadata": {},
   "outputs": [],
   "source": [
    "fctts = pickle.load(open(inDat, 'rb'))"
   ]
  },
  {
   "cell_type": "code",
   "execution_count": 5,
   "id": "d9d3fcc9",
   "metadata": {},
   "outputs": [
    {
     "data": {
      "text/plain": [
       "{'test_type': <FortranLogic.FProgram at 0x176ea761630>,\n",
       " 't1': <FortranLogic.FType at 0x176ea785d80>}"
      ]
     },
     "execution_count": 5,
     "metadata": {},
     "output_type": "execute_result"
    }
   ],
   "source": [
    "fctts"
   ]
  },
  {
   "cell_type": "code",
   "execution_count": 6,
   "id": "4fc1bfdd",
   "metadata": {},
   "outputs": [],
   "source": [
    "ft = fctts['t1']"
   ]
  },
  {
   "cell_type": "code",
   "execution_count": 7,
   "id": "92e0fff6",
   "metadata": {},
   "outputs": [
    {
     "data": {
      "text/plain": [
       "<FortranLogic.FType at 0x176ea785d80>"
      ]
     },
     "execution_count": 7,
     "metadata": {},
     "output_type": "execute_result"
    }
   ],
   "source": [
    "ft"
   ]
  },
  {
   "cell_type": "code",
   "execution_count": null,
   "id": "828f0dc0",
   "metadata": {},
   "outputs": [],
   "source": []
  },
  {
   "cell_type": "code",
   "execution_count": null,
   "id": "7b240c5f",
   "metadata": {},
   "outputs": [],
   "source": []
  },
  {
   "cell_type": "code",
   "execution_count": null,
   "id": "3fd8d397",
   "metadata": {},
   "outputs": [],
   "source": []
  },
  {
   "cell_type": "code",
   "execution_count": null,
   "id": "20fbe19e",
   "metadata": {},
   "outputs": [],
   "source": []
  }
 ],
 "metadata": {
  "kernelspec": {
   "display_name": "Python 3 (ipykernel)",
   "language": "python",
   "name": "python3"
  },
  "language_info": {
   "codemirror_mode": {
    "name": "ipython",
    "version": 3
   },
   "file_extension": ".py",
   "mimetype": "text/x-python",
   "name": "python",
   "nbconvert_exporter": "python",
   "pygments_lexer": "ipython3",
   "version": "3.10.10"
  }
 },
 "nbformat": 4,
 "nbformat_minor": 5
}
